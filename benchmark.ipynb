{
 "cells": [
  {
   "cell_type": "code",
   "execution_count": 1,
   "metadata": {},
   "outputs": [
    {
     "name": "stderr",
     "output_type": "stream",
     "text": [
      "Matplotlib is building the font cache; this may take a moment.\n"
     ]
    }
   ],
   "source": [
    "import openai\n",
    "import json\n",
    "import pandas as pd\n",
    "import matplotlib.pyplot as plt\n",
    "import seaborn as sns"
   ]
  },
  {
   "cell_type": "code",
   "execution_count": 2,
   "metadata": {},
   "outputs": [],
   "source": [
    "import os\n",
    "\n",
    "openai.api_key = os.getenv(\"OPENAI_API_KEY\")"
   ]
  },
  {
   "cell_type": "code",
   "execution_count": 8,
   "metadata": {},
   "outputs": [],
   "source": [
    "with open('contract_case_summaries.json', 'r') as file:\n",
    "    ground_truth_cases = json.load(file)"
   ]
  },
  {
   "cell_type": "code",
   "execution_count": 21,
   "metadata": {},
   "outputs": [
    {
     "data": {
      "text/plain": [
       "{'decision': 'Judgment in favor of Plaintiff Company 4.',\n",
       " 'legal_reasoning': ['Defendant breached the contract by failing to deliver.',\n",
       "  'Force majeure was deemed inapplicable.',\n",
       "  'Losses were foreseeable and directly linked to the breach.'],\n",
       " 'remedies_awarded': {'damages': '$90000 for lost business opportunities.',\n",
       "  'attorney_fees': 'Defendant to pay legal costs.',\n",
       "  'interest': 'Pre-judgment interest applied.'}}"
      ]
     },
     "execution_count": 21,
     "metadata": {},
     "output_type": "execute_result"
    }
   ],
   "source": [
    "ground_truth_df = pd.DataFrame(ground_truth_cases)\n",
    "ground_truth_df[0:1]['outcome'][0]"
   ]
  },
  {
   "cell_type": "code",
   "execution_count": 28,
   "metadata": {},
   "outputs": [],
   "source": [
    "with open('generated_prompts.txt', 'r') as file:\n",
    "    prompts = file.read().split('---')  # Assuming prompts are separated by '---'\n",
    "\n",
    "prompts = [prompt.strip() for prompt in prompts if prompt.strip()]\n"
   ]
  },
  {
   "cell_type": "code",
   "execution_count": 31,
   "metadata": {},
   "outputs": [
    {
     "data": {
      "text/plain": [
       "\"Case Title: Case Title 4\\n\\nYou are a legal expert specializing in U.S. contract law. Based on the following case details, predict the court's decision and provide the legal reasoning.\""
      ]
     },
     "execution_count": 31,
     "metadata": {},
     "output_type": "execute_result"
    }
   ],
   "source": [
    "prompts[0]"
   ]
  },
  {
   "cell_type": "markdown",
   "metadata": {},
   "source": [
    "\"Case Title: Case Title 4\\n\\nYou are a legal expert specializing in U.S. contract law. Based on the following case details, predict the court's decision and provide the legal reasoning.\""
   ]
  },
  {
   "cell_type": "code",
   "execution_count": 29,
   "metadata": {},
   "outputs": [
    {
     "data": {
      "text/plain": [
       "\"**Case Title**: Case Title 4\\n\\n**Jurisdiction**: United States District Court for California\\n\\n### **Facts**\\n\\n#### **Parties**\\n- **Plaintiff**: Plaintiff Company 4, a tech startup.\\n- **Defendant**: Defendant Agency 4, a marketing firm.\\n\\n#### **Contract Details**\\n- **Type**: Service Agreement for Marketing Campaign\\n- **Key Terms**:\\n  - **Delivery Date**: December 5, 2022\\n  - **Payment**: $30000 upon delivery of services\\n  - **Performance Obligations**: Execution of a targeted advertising campaign for product 4.\\n\\n#### **Timeline of Events**\\n- **July 5, 2022**: Contract signed.\\n- **September 14, 2022**: Defendant requests delay; plaintiff refuses.\\n- **December 5, 2022**: Defendant fails to deliver services.\\n- **December 9, 2022**: Plaintiff files lawsuit.\\n\\n### **Legal Issues**\\n\\n#### **Primary Issue(s)**\\n1. Did Defendant Agency 4 breach the contract by failing to deliver services by the specified date?\\n2. Is Plaintiff Company 4 entitled to damages for losses incurred?\\n\\n#### **Secondary Issue(s)**\\n1. Does the defendant's staffing issues qualify as a valid excuse under force majeure?\""
      ]
     },
     "execution_count": 29,
     "metadata": {},
     "output_type": "execute_result"
    }
   ],
   "source": [
    "prompts[1]"
   ]
  },
  {
   "cell_type": "markdown",
   "metadata": {},
   "source": [
    "\"**Case Title**: Case Title 4\\n\\n**Jurisdiction**: United States District Court for California\\n\\n### **Facts**\\n\\n#### **Parties**\\n- **Plaintiff**: Plaintiff Company 4, a tech startup.\\n- **Defendant**: Defendant Agency 4, a marketing firm.\\n\\n#### **Contract Details**\\n- **Type**: Service Agreement for Marketing Campaign\\n- **Key Terms**:\\n  - **Delivery Date**: December 5, 2022\\n  - **Payment**: $30000 upon delivery of services\\n  - **Performance Obligations**: Execution of a targeted advertising campaign for product 4.\\n\\n#### **Timeline of Events**\\n- **July 5, 2022**: Contract signed.\\n- **September 14, 2022**: Defendant requests delay; plaintiff refuses.\\n- **December 5, 2022**: Defendant fails to deliver services.\\n- **December 9, 2022**: Plaintiff files lawsuit.\\n\\n### **Legal Issues**\\n\\n#### **Primary Issue(s)**\\n1. Did Defendant Agency 4 breach the contract by failing to deliver services by the specified date?\\n2. Is Plaintiff Company 4 entitled to damages for losses incurred?\\n\\n#### **Secondary Issue(s)**\\n1. Does the defendant's staffing issues qualify as a valid excuse under force majeure?\"\n"
   ]
  },
  {
   "cell_type": "code",
   "execution_count": 30,
   "metadata": {},
   "outputs": [
    {
     "data": {
      "text/plain": [
       "\"Please provide:\\n\\n1. **Decision**: Should the court rule in favor of the plaintiff or the defendant?\\n2. **Legal Reasoning**: Explain the reasoning behind the decision, citing relevant legal principles and statutes.\\n\\n\\nCase Title: Case Title 5\\n\\nYou are a legal expert specializing in U.S. contract law. Based on the following case details, predict the court's decision and provide the legal reasoning.\""
      ]
     },
     "execution_count": 30,
     "metadata": {},
     "output_type": "execute_result"
    }
   ],
   "source": [
    "prompts[2]"
   ]
  },
  {
   "cell_type": "code",
   "execution_count": null,
   "metadata": {},
   "outputs": [],
   "source": [
    "prompts[2]"
   ]
  }
 ],
 "metadata": {
  "kernelspec": {
   "display_name": ".venv",
   "language": "python",
   "name": "python3"
  },
  "language_info": {
   "codemirror_mode": {
    "name": "ipython",
    "version": 3
   },
   "file_extension": ".py",
   "mimetype": "text/x-python",
   "name": "python",
   "nbconvert_exporter": "python",
   "pygments_lexer": "ipython3",
   "version": "3.13.0"
  }
 },
 "nbformat": 4,
 "nbformat_minor": 2
}
